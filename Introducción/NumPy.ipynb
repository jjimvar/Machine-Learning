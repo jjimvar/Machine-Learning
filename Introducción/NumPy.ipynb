{
 "cells": [
  {
   "cell_type": "markdown",
   "metadata": {},
   "source": [
    "## 0. Definición de funciones"
   ]
  },
  {
   "cell_type": "code",
   "execution_count": 8,
   "metadata": {},
   "outputs": [],
   "source": [
    "def multiplicar(x,y):\n",
    "    return x * y"
   ]
  },
  {
   "cell_type": "code",
   "execution_count": 9,
   "metadata": {},
   "outputs": [
    {
     "name": "stdout",
     "output_type": "stream",
     "text": [
      "6\n"
     ]
    }
   ],
   "source": [
    "x=2\n",
    "y=3\n",
    "print(multiplicar(x,y))"
   ]
  },
  {
   "cell_type": "markdown",
   "metadata": {},
   "source": [
    "## 1. Creación de arrays"
   ]
  },
  {
   "cell_type": "markdown",
   "metadata": {},
   "source": [
    "#### 1.1. Valores iguales"
   ]
  },
  {
   "cell_type": "code",
   "execution_count": null,
   "metadata": {},
   "outputs": [],
   "source": [
    "import numpy as np"
   ]
  },
  {
   "cell_type": "code",
   "execution_count": null,
   "metadata": {},
   "outputs": [
    {
     "name": "stdout",
     "output_type": "stream",
     "text": [
      "Array con zeros:\n",
      " [[[0. 0. 0. 0.]\n",
      "  [0. 0. 0. 0.]\n",
      "  [0. 0. 0. 0.]]\n",
      "\n",
      " [[0. 0. 0. 0.]\n",
      "  [0. 0. 0. 0.]\n",
      "  [0. 0. 0. 0.]]]\n",
      "Forma del array: (2, 3, 4)\n",
      "-------------------------------------\n",
      "Array con unos:\n",
      " [[[1. 1. 1. 1.]\n",
      "  [1. 1. 1. 1.]\n",
      "  [1. 1. 1. 1.]]\n",
      "\n",
      " [[1. 1. 1. 1.]\n",
      "  [1. 1. 1. 1.]\n",
      "  [1. 1. 1. 1.]]]\n",
      "Forma del array: (2, 3, 4)\n",
      "-------------------------------------\n",
      "Array con unos:\n",
      " [[[8 8 8 8]\n",
      "  [8 8 8 8]\n",
      "  [8 8 8 8]]\n",
      "\n",
      " [[8 8 8 8]\n",
      "  [8 8 8 8]\n",
      "  [8 8 8 8]]]\n",
      "Forma del array: (2, 3, 4)\n"
     ]
    }
   ],
   "source": [
    "# Array cuyos valores son todos 0\n",
    "a=np.zeros((2, 3, 4))\n",
    "print(\"Array con zeros:\\n\", a)\n",
    "print(\"Forma del array:\", a.shape)\n",
    "print(\"-------------------------------------\")\n",
    "# Array cuyos valores son todos 1\n",
    "b= np.ones((2, 3, 4))\n",
    "print(\"Array con unos:\\n\", b)\n",
    "print(\"Forma del array:\", b.shape)\n",
    "print(\"-------------------------------------\")\n",
    "# Array cuyos valores son todos el valor indicado como segundo parámetro de la función\n",
    "c=np.full((2, 3, 4), 8)\n",
    "print(\"Array con ochos:\\n\", c)\n",
    "print(\"Forma del array:\", c.shape)"
   ]
  },
  {
   "cell_type": "markdown",
   "metadata": {},
   "source": [
    "#### 1.2. Valores diferentes"
   ]
  },
  {
   "cell_type": "code",
   "execution_count": 7,
   "metadata": {},
   "outputs": [
    {
     "name": "stdout",
     "output_type": "stream",
     "text": [
      "Array manualmente definido:\n",
      " [[1 2 3]\n",
      " [4 5 6]]\n",
      "-------------------------------------\n",
      "Array por rangos:\n",
      " [1 3 5 7 9]\n",
      "-------------------------------------\n",
      "Array aleatorio:\n",
      " [[0.36616871 0.06925998 0.65162696]\n",
      " [0.36785156 0.54253041 0.3003272 ]]\n",
      "-------------------------------------\n",
      "Array aleatorio conforme a una distribución normal:\n",
      " [[ 0.50207122 -1.06685141 -0.72092755]\n",
      " [-0.19482441 -1.34269898 -0.39669015]]\n",
      "-------------------------------------\n"
     ]
    }
   ],
   "source": [
    "#Manual\n",
    "d = np.array([[1, 2, 3], [4, 5, 6]])\n",
    "print(\"Array manualmente definido:\\n\", d)\n",
    "print(\"-------------------------------------\")\n",
    "#Array por rangos\n",
    "e = np.arange(1, 10, 2)\n",
    "print(\"Array por rangos:\\n\", e)\n",
    "print(\"-------------------------------------\")\n",
    "#Array aleatorio\n",
    "f = np.random.rand(2, 3)\n",
    "print(\"Array aleatorio:\\n\", f)\n",
    "print(\"-------------------------------------\")\n",
    "#Array aleatorio conforme a una distribución normal\n",
    "g = np.random.randn(2, 3)\n",
    "print(\"Array aleatorio conforme a una distribución normal:\\n\", g)\n",
    "print(\"-------------------------------------\")"
   ]
  },
  {
   "cell_type": "markdown",
   "metadata": {},
   "source": [
    "## 2. Acceso a los elementos de un array"
   ]
  },
  {
   "cell_type": "markdown",
   "metadata": {},
   "source": [
    "#### 2.1. Array unidimensional"
   ]
  },
  {
   "cell_type": "code",
   "execution_count": 14,
   "metadata": {},
   "outputs": [
    {
     "name": "stdout",
     "output_type": "stream",
     "text": [
      "Array_uni: [ 1  3  5  7  9 11]\n",
      "Shape: (6,)\n",
      "----------------------------------------\n",
      "- Seleccionamos segundo elemento: 3\n",
      "- Seleccionamos el cuarto y quinto:\n",
      " [5 7]\n",
      "- Seleccionamos los elementos 1, 5 y 9:\n",
      " [1 5 9]\n"
     ]
    }
   ],
   "source": [
    "# Creación de un Array unidimensional\n",
    "array_uni = np.array([1, 3, 5, 7, 9, 11])\n",
    "print(\"Array_uni:\", array_uni)\n",
    "print(\"Shape:\", array_uni.shape)\n",
    "print(\"----------------------------------------\")\n",
    "print(\"- Seleccionamos segundo elemento:\", array_uni[1])\n",
    "print(\"- Seleccionamos el cuarto y quinto:\\n\", array_uni[2:4])\n",
    "print(\"- Seleccionamos los elementos 1, 5 y 9:\\n\", array_uni[0::2])\n"
   ]
  },
  {
   "cell_type": "markdown",
   "metadata": {},
   "source": [
    "#### 2.2. Array multidimensional"
   ]
  },
  {
   "cell_type": "code",
   "execution_count": null,
   "metadata": {},
   "outputs": [
    {
     "name": "stdout",
     "output_type": "stream",
     "text": [
      "Array_multi: [[ 1  3  5]\n",
      " [ 7  9 11]]\n",
      "Shape: (2, 3)\n",
      "----------------------------------------\n",
      "- Seleccionamos el segundo elemento de la primera fila: 3\n",
      "- Seleccionamos la segunda fila: [ 7  9 11]\n",
      "- Seleccionamos los dos primeros elemento de la primera fila:\n",
      " [[1 3]\n",
      " [7 9]]\n"
     ]
    }
   ],
   "source": [
    "# Creación de un Array multidimensional\n",
    "array_multi = np.array([[1, 3, 5], [7, 9, 11]])\n",
    "print(\"Array_multi:\", array_multi)\n",
    "print(\"Shape:\", array_multi.shape)\n",
    "print(\"----------------------------------------\")\n",
    "print(\"- Seleccionamos el segundo elemento de la primera fila:\", array_multi[0, 1])\n",
    "print(\"- Seleccionamos la segunda fila:\", array_multi[1, :])\n",
    "print(\"- Seleccionamos los dos primeros elemento de cada fila:\\n\", array_multi[0:2, 0:2])"
   ]
  },
  {
   "cell_type": "markdown",
   "metadata": {},
   "source": [
    "## 3. Modificación de un Array"
   ]
  },
  {
   "cell_type": "code",
   "execution_count": 86,
   "metadata": {},
   "outputs": [
    {
     "name": "stdout",
     "output_type": "stream",
     "text": [
      "Array con 28 elementos empezando por 0: [ 0  1  2  3  4  5  6  7  8  9 10 11 12 13 14 15 16 17 18 19 20 21 22 23\n",
      " 24 25 26 27]\n",
      "Shape: (28,)\n",
      "----------------------------------------\n",
      "- Añadimos más columnas al array:\n",
      " [[ 0  1  2  3]\n",
      " [ 4  5  6  7]\n",
      " [ 8  9 10 11]\n",
      " [12 13 14 15]\n",
      " [16 17 18 19]\n",
      " [20 21 22 23]\n",
      " [24 25 26 27]]\n",
      "- Nuevo shape: (7, 4)\n",
      "----------------------------------------\n",
      "- Lo volvemos unidimensional:\n",
      " [ 0  1  2  3  4  5  6  7  8  9 10 11 12 13 14 15 16 17 18 19 20 21 22 23\n",
      " 24 25 26 27]\n",
      "- Nuevo shape: (28,)\n",
      "----------------------------------------\n",
      "- Ponemos valores mayores que 5 como 1 y el resto, 0:\n",
      " [0 0 0 0 0 0 1 1 1 1 1 1 1 1 1 1 1 1 1 1 1 1 1 1 1 1 1 1]\n"
     ]
    }
   ],
   "source": [
    "# Creación de un Array unidimensional inicializado con el rango de elementos 0-27\n",
    "array1 = np.arange(28)\n",
    "print(\"Array con 28 elementos empezando por 0:\", array1)\n",
    "print(\"Shape:\", array1.shape)\n",
    "print(\"----------------------------------------\")\n",
    "print(\"- Añadimos más columnas al array:\\n\",array1.reshape(7, 4)) #En otro array, para hacerlo en el mismo: array1.shape=(7,4)\n",
    "print(\"- Nuevo shape:\", array1.reshape(7, 4).shape)\n",
    "print(\"----------------------------------------\")\n",
    "print(\"- Lo volvemos unidimensional:\\n\", array1.flatten())\n",
    "print(\"- Nuevo shape:\", array1.flatten().shape)\n",
    "print(\"----------------------------------------\")\n",
    "print(\"- Ponemos valores mayores que 5 como 1 y el resto, 0:\\n\", np.where(array1>5, 1, 0))"
   ]
  },
  {
   "cell_type": "markdown",
   "metadata": {},
   "source": [
    "## 4. Operaciones aritméticas con Arrays"
   ]
  },
  {
   "cell_type": "markdown",
   "metadata": {},
   "source": [
    "### 4.1. Vectores"
   ]
  },
  {
   "cell_type": "code",
   "execution_count": 35,
   "metadata": {},
   "outputs": [
    {
     "name": "stdout",
     "output_type": "stream",
     "text": [
      "Array 1: [ 2  4  6  8 10 12 14 16]\n",
      "Shape: (8,)\n",
      "Array 2: [[0.70149734]\n",
      " [0.14983162]\n",
      " [0.36752804]\n",
      " [0.59769564]\n",
      " [0.2316658 ]\n",
      " [0.6217155 ]\n",
      " [0.96845706]\n",
      " [0.05070426]]\n",
      "Shape: (8, 1)\n",
      "Suma: [ 5  7  9 11 13 15 17 19]\n",
      "Resta: [-2  0  2  4  6  8 10 12]\n",
      "Multiplicacion de vectores: [33.1359655]\n"
     ]
    }
   ],
   "source": [
    "array1 = np.arange(2, 18, 2)\n",
    "array2=np.random.rand(8,1)\n",
    "print(\"Array 1:\", array1)\n",
    "print(\"Shape:\", array1.shape)\n",
    "print(\"Array 2:\", array2)\n",
    "print(\"Shape:\", array2.shape)\n",
    "# Suma\n",
    "print(f\"Suma: {array1 + 3}\")\n",
    "# Resta\n",
    "print(f\"Resta: {array1 - 4}\")\n",
    "# Multiplicacion de vectores\n",
    "print(f\"Multiplicacion de vectores: {np.dot(array1, array2)}\")"
   ]
  },
  {
   "cell_type": "code",
   "execution_count": null,
   "metadata": {},
   "outputs": [
    {
     "data": {
      "text/plain": [
       "array([-55,  35,  -5])"
      ]
     },
     "execution_count": 30,
     "metadata": {},
     "output_type": "execute_result"
    }
   ],
   "source": [
    "#Producto vectorial: vector ortogonal de cada matriz\n",
    "vector1=np.arange(5,20,5)\n",
    "vector2=np.array([3,5,2])\n",
    "np.cross(vector1,vector2)"
   ]
  },
  {
   "cell_type": "markdown",
   "metadata": {},
   "source": [
    "### 4.2. Matrices"
   ]
  },
  {
   "cell_type": "code",
   "execution_count": 39,
   "metadata": {},
   "outputs": [
    {
     "data": {
      "text/plain": [
       "array([[1., 0., 0.],\n",
       "       [0., 1., 0.],\n",
       "       [0., 0., 1.]])"
      ]
     },
     "execution_count": 39,
     "metadata": {},
     "output_type": "execute_result"
    }
   ],
   "source": [
    "#matriz identidad\n",
    "np.eye(3)"
   ]
  },
  {
   "cell_type": "code",
   "execution_count": 41,
   "metadata": {},
   "outputs": [
    {
     "name": "stdout",
     "output_type": "stream",
     "text": [
      "Multiplicación: [[0.63636389 0.76114811 0.69474074]\n",
      " [0.10694771 0.19232452 0.21261039]\n",
      " [0.77698375 0.73982354 0.56620843]]\n"
     ]
    }
   ],
   "source": [
    "matriz1=np.random.rand(3,2)\n",
    "matriz2=np.random.rand(2,3)\n",
    "#Multiplicación de matrices\n",
    "print(f\"Multiplicación: {np.matmul(matriz1,matriz2)}\")\n"
   ]
  },
  {
   "cell_type": "code",
   "execution_count": 55,
   "metadata": {},
   "outputs": [
    {
     "name": "stdout",
     "output_type": "stream",
     "text": [
      "Matriz 1: [[3 2 9]\n",
      " [7 5 1]\n",
      " [2 8 3]]\n",
      "Traspuesta: [[3 7 2]\n",
      " [2 5 8]\n",
      " [9 1 3]]\n",
      "Determinante: 397.0000000000001\n",
      "Inversa: [[ 0.01763224  0.16624685 -0.10831234]\n",
      " [-0.04785894 -0.02267003  0.1511335 ]\n",
      " [ 0.11586902 -0.05037783  0.00251889]]\n",
      "Comprobacion propiedad: [[ 1.00000000e+00 -3.46944695e-17  3.46944695e-18]\n",
      " [ 1.38777878e-17  1.00000000e+00  8.67361738e-17]\n",
      " [-4.16333634e-17  6.93889390e-18  1.00000000e+00]]\n"
     ]
    }
   ],
   "source": [
    "from numpy.linalg import inv\n",
    "from numpy.linalg import det\n",
    "matriz3=np.array([[3,2,9],[7,5,1],[2,8,3]])\n",
    "print(f\"Matriz 1: {matriz3}\")\n",
    "print(f\"Traspuesta: {matriz3.transpose()}\")\n",
    "print(f\"Determinante: {det(matriz3)}\")\n",
    "print(f\"Inversa: {inv(matriz3)}\")\n",
    "print(f\"Comprobacion propiedad: {np.matmul(matriz3, inv(matriz3))}\")"
   ]
  },
  {
   "cell_type": "markdown",
   "metadata": {},
   "source": [
    "## Funciones estadísticas sobre Arrays"
   ]
  },
  {
   "cell_type": "code",
   "execution_count": 84,
   "metadata": {},
   "outputs": [
    {
     "name": "stdout",
     "output_type": "stream",
     "text": [
      "Matriz:  [[0.95868577 0.49818247 0.16362353 0.97663091]\n",
      " [0.72519044 0.71072009 0.34762    0.6922952 ]\n",
      " [0.5567866  0.58611069 0.68355671 0.66173858]]\n",
      "Shape (3, 4)\n",
      " Mínimo: 0.16362353497212123\n",
      " Máximo: 0.9766309126908234\n",
      "Suma de los elementos:  7.5611409962864515\n",
      "Suma por filas: [2.24066281 1.79501325 1.19480025 2.33066469]\n",
      "Suma por columnas: [2.59712268 2.47582574 2.48819258]\n",
      "Media:  0.630095083023871\n",
      "Mediana:  0.6726476452985793\n",
      "Desv. Est.:  0.21859939105891582\n",
      "Producto de todos los numeros: 0.00139738835609985\n",
      "Porducto de cada elemento de la fila 1 y 2: [0.69522975 0.35406829 0.05687881 0.6761169 ]\n",
      "Suma acumulada: [0.95868577 1.45686823 1.62049177 2.59712268 3.32231312 4.03303321\n",
      " 4.38065321 5.07294841 5.62973501 6.21584571 6.89940242 7.561141  ]\n",
      "Producto acumulado: [0.95868577 0.47760044 0.07814667 0.07632046 0.05534686 0.03933613\n",
      " 0.01367403 0.00946646 0.0052708  0.00308927 0.00211169 0.00139739]\n"
     ]
    }
   ],
   "source": [
    "matriz4=np.random.rand(3,4)\n",
    "print(\"Matriz: \", matriz4)\n",
    "print(\"Shape\", matriz4.shape)\n",
    "print(f\" Mínimo: {matriz4.min()}\")\n",
    "print(f\" Máximo: {matriz4.max()}\")\n",
    "print(\"Suma de los elementos: \", matriz4.sum())\n",
    "print(f\"Suma por filas: {matriz4.sum(axis=0)}\")\n",
    "print(f\"Suma por columnas: {matriz4.sum(axis=1)}\")\n",
    "print(\"Media: \", matriz4.mean())\n",
    "print(\"Mediana: \", np.median(matriz4))\n",
    "print(\"Desv. Est.: \", matriz4.std())\n",
    "print(f\"Producto de todos los numeros: {np.prod(matriz4)}\")\n",
    "print(f\"Porducto de cada elemento de la fila 1 y 2: {np.multiply(matriz4[0], matriz4[1])}\")\n",
    "print(f\"Suma acumulada: {matriz4.cumsum()}\")\n",
    "print(f\"Producto acumulado: {matriz4.cumprod()}\")"
   ]
  },
  {
   "cell_type": "code",
   "execution_count": null,
   "metadata": {},
   "outputs": [
    {
     "name": "stdout",
     "output_type": "stream",
     "text": [
      "Cuadrado de los elementos:  [  1.   4.   9.  16.  25.  36.  49.  64.  81. 100. 121. 144. 169. 196.\n",
      " 225. 256. 289. 324. 361. 400.]\n",
      "Raíz cuadrada de los elementos:  [1.         1.41421356 1.73205081 2.         2.23606798 2.44948974\n",
      " 2.64575131 2.82842712 3.         3.16227766 3.31662479 3.46410162\n",
      " 3.60555128 3.74165739 3.87298335 4.         4.12310563 4.24264069\n",
      " 4.35889894 4.47213595]\n",
      "Valor exponencial de los elementos:  [2.71828183e+00 7.38905610e+00 2.00855369e+01 5.45981500e+01\n",
      " 1.48413159e+02 4.03428793e+02 1.09663316e+03 2.98095799e+03\n",
      " 8.10308393e+03 2.20264658e+04 5.98741417e+04 1.62754791e+05\n",
      " 4.42413392e+05 1.20260428e+06 3.26901737e+06 8.88611052e+06\n",
      " 2.41549528e+07 6.56599691e+07 1.78482301e+08 4.85165195e+08]\n",
      "Logaritmo natural de los elementos:  [0.         0.69314718 1.09861229 1.38629436 1.60943791 1.79175947\n",
      " 1.94591015 2.07944154 2.19722458 2.30258509 2.39789527 2.48490665\n",
      " 2.56494936 2.63905733 2.7080502  2.77258872 2.83321334 2.89037176\n",
      " 2.94443898 2.99573227]\n"
     ]
    }
   ],
   "source": [
    "# Funciones universales eficientes proporcionadas por numpy: **ufunc**\n",
    "number=6\n",
    "print(\"Cuadrado: \", np.square(number))\n",
    "print(\"Raíz cuadrada: \", np.sqrt(number))\n",
    "print(\"Valor exponencial: \", np.exp(number))\n",
    "print(\"Logaritmo natural: \", np.log(number))\n",
    "print(\"Numero phi: \", np.pi)\n",
    "print(\"Coseno: \", np.cos(number))\n",
    "print(\"Seno: \", np.sin(number))"
   ]
  },
  {
   "cell_type": "code",
   "execution_count": 25,
   "metadata": {},
   "outputs": [
    {
     "data": {
      "text/plain": [
       "['T',\n",
       " '__abs__',\n",
       " '__add__',\n",
       " '__and__',\n",
       " '__array__',\n",
       " '__array_finalize__',\n",
       " '__array_function__',\n",
       " '__array_interface__',\n",
       " '__array_namespace__',\n",
       " '__array_priority__',\n",
       " '__array_struct__',\n",
       " '__array_ufunc__',\n",
       " '__array_wrap__',\n",
       " '__bool__',\n",
       " '__buffer__',\n",
       " '__class__',\n",
       " '__class_getitem__',\n",
       " '__complex__',\n",
       " '__contains__',\n",
       " '__copy__',\n",
       " '__deepcopy__',\n",
       " '__delattr__',\n",
       " '__delitem__',\n",
       " '__dir__',\n",
       " '__divmod__',\n",
       " '__dlpack__',\n",
       " '__dlpack_device__',\n",
       " '__doc__',\n",
       " '__eq__',\n",
       " '__float__',\n",
       " '__floordiv__',\n",
       " '__format__',\n",
       " '__ge__',\n",
       " '__getattribute__',\n",
       " '__getitem__',\n",
       " '__getstate__',\n",
       " '__gt__',\n",
       " '__hash__',\n",
       " '__iadd__',\n",
       " '__iand__',\n",
       " '__ifloordiv__',\n",
       " '__ilshift__',\n",
       " '__imatmul__',\n",
       " '__imod__',\n",
       " '__imul__',\n",
       " '__index__',\n",
       " '__init__',\n",
       " '__init_subclass__',\n",
       " '__int__',\n",
       " '__invert__',\n",
       " '__ior__',\n",
       " '__ipow__',\n",
       " '__irshift__',\n",
       " '__isub__',\n",
       " '__iter__',\n",
       " '__itruediv__',\n",
       " '__ixor__',\n",
       " '__le__',\n",
       " '__len__',\n",
       " '__lshift__',\n",
       " '__lt__',\n",
       " '__matmul__',\n",
       " '__mod__',\n",
       " '__mul__',\n",
       " '__ne__',\n",
       " '__neg__',\n",
       " '__new__',\n",
       " '__or__',\n",
       " '__pos__',\n",
       " '__pow__',\n",
       " '__radd__',\n",
       " '__rand__',\n",
       " '__rdivmod__',\n",
       " '__reduce__',\n",
       " '__reduce_ex__',\n",
       " '__repr__',\n",
       " '__rfloordiv__',\n",
       " '__rlshift__',\n",
       " '__rmatmul__',\n",
       " '__rmod__',\n",
       " '__rmul__',\n",
       " '__ror__',\n",
       " '__rpow__',\n",
       " '__rrshift__',\n",
       " '__rshift__',\n",
       " '__rsub__',\n",
       " '__rtruediv__',\n",
       " '__rxor__',\n",
       " '__setattr__',\n",
       " '__setitem__',\n",
       " '__setstate__',\n",
       " '__sizeof__',\n",
       " '__str__',\n",
       " '__sub__',\n",
       " '__subclasshook__',\n",
       " '__truediv__',\n",
       " '__xor__',\n",
       " 'all',\n",
       " 'any',\n",
       " 'argmax',\n",
       " 'argmin',\n",
       " 'argpartition',\n",
       " 'argsort',\n",
       " 'astype',\n",
       " 'base',\n",
       " 'byteswap',\n",
       " 'choose',\n",
       " 'clip',\n",
       " 'compress',\n",
       " 'conj',\n",
       " 'conjugate',\n",
       " 'copy',\n",
       " 'ctypes',\n",
       " 'cumprod',\n",
       " 'cumsum',\n",
       " 'data',\n",
       " 'device',\n",
       " 'diagonal',\n",
       " 'dot',\n",
       " 'dtype',\n",
       " 'dump',\n",
       " 'dumps',\n",
       " 'fill',\n",
       " 'flags',\n",
       " 'flat',\n",
       " 'flatten',\n",
       " 'getfield',\n",
       " 'imag',\n",
       " 'item',\n",
       " 'itemset',\n",
       " 'itemsize',\n",
       " 'mT',\n",
       " 'max',\n",
       " 'mean',\n",
       " 'min',\n",
       " 'nbytes',\n",
       " 'ndim',\n",
       " 'newbyteorder',\n",
       " 'nonzero',\n",
       " 'partition',\n",
       " 'prod',\n",
       " 'ptp',\n",
       " 'put',\n",
       " 'ravel',\n",
       " 'real',\n",
       " 'repeat',\n",
       " 'reshape',\n",
       " 'resize',\n",
       " 'round',\n",
       " 'searchsorted',\n",
       " 'setfield',\n",
       " 'setflags',\n",
       " 'shape',\n",
       " 'size',\n",
       " 'sort',\n",
       " 'squeeze',\n",
       " 'std',\n",
       " 'strides',\n",
       " 'sum',\n",
       " 'swapaxes',\n",
       " 'take',\n",
       " 'to_device',\n",
       " 'tobytes',\n",
       " 'tofile',\n",
       " 'tolist',\n",
       " 'trace',\n",
       " 'transpose',\n",
       " 'var',\n",
       " 'view']"
      ]
     },
     "execution_count": 25,
     "metadata": {},
     "output_type": "execute_result"
    }
   ],
   "source": [
    "dir(array1) #Devuelve una lista de los atributos y métodos definidos para ese objeto"
   ]
  }
 ],
 "metadata": {
  "kernelspec": {
   "display_name": "Python 3",
   "language": "python",
   "name": "python3"
  },
  "language_info": {
   "codemirror_mode": {
    "name": "ipython",
    "version": 3
   },
   "file_extension": ".py",
   "mimetype": "text/x-python",
   "name": "python",
   "nbconvert_exporter": "python",
   "pygments_lexer": "ipython3",
   "version": "3.12.1"
  }
 },
 "nbformat": 4,
 "nbformat_minor": 4
}

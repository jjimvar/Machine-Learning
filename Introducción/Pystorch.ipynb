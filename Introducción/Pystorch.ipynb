{
 "cells": [
  {
   "cell_type": "markdown",
   "id": "8cf31ce8",
   "metadata": {},
   "source": [
    "## 1. Creación de tensores"
   ]
  },
  {
   "cell_type": "code",
   "execution_count": null,
   "id": "1c547261",
   "metadata": {},
   "outputs": [
    {
     "name": "stdout",
     "output_type": "stream",
     "text": [
      "tensor([0., 0.])\n",
      "tensor([1., 1.])\n",
      "tensor([ 1.,  2.,  3.,  4.,  5.,  6.,  7.,  8.,  9., 10.])\n"
     ]
    }
   ],
   "source": [
    "print(torch.zeros(2)) #Torch de zeros\n",
    "print(torch.ones(2)) #Torch de unos\n",
    "print(torch.linspace(1,10,10)) #Torch de 1 a 10 en 10 pasos"
   ]
  },
  {
   "cell_type": "code",
   "execution_count": 12,
   "id": "0e6eecfa",
   "metadata": {},
   "outputs": [
    {
     "name": "stdout",
     "output_type": "stream",
     "text": [
      "[1, 2, 3, 4, 5, 6, 7, 8, 9]\n",
      "Tensor desde una lista: tensor([1., 2., 3., 4., 5., 6., 7., 8., 9.])\n",
      "-------------------------------------------------------\n",
      "[0.08793497 0.93590818 0.8674491  0.40766098 0.27487743 0.74836067\n",
      " 0.14478591 0.20944597 0.68025092]\n",
      "Tensor desde una lista: tensor([0.0879, 0.9359, 0.8674, 0.4077, 0.2749, 0.7484, 0.1448, 0.2094, 0.6803],\n",
      "       dtype=torch.float64)\n"
     ]
    }
   ],
   "source": [
    "import numpy as np\n",
    "\n",
    "lista=[1,2,3,4,5,6,7,8,9]\n",
    "print(lista)\n",
    "print(f\"Tensor desde una lista: {torch.Tensor(lista)}\")\n",
    "print(\"-------------------------------------------------------\")\n",
    "array=np.random.rand(9)\n",
    "print(array)\n",
    "print(f\"Tensor desde una lista: {torch.from_numpy(array)}\")"
   ]
  },
  {
   "cell_type": "code",
   "execution_count": 13,
   "id": "3be1161b",
   "metadata": {},
   "outputs": [
    {
     "data": {
      "text/plain": [
       "array([0.6375519], dtype=float32)"
      ]
     },
     "execution_count": 13,
     "metadata": {},
     "output_type": "execute_result"
    }
   ],
   "source": [
    "# Desde torch a numpy\n",
    "x=torch.rand(1)\n",
    "\n",
    "x.numpy()"
   ]
  },
  {
   "cell_type": "markdown",
   "id": "16d160c8",
   "metadata": {},
   "source": [
    "## 2. Atributos"
   ]
  },
  {
   "cell_type": "code",
   "execution_count": null,
   "id": "aff923f4",
   "metadata": {},
   "outputs": [],
   "source": []
  }
 ],
 "metadata": {
  "kernelspec": {
   "display_name": "Python 3",
   "language": "python",
   "name": "python3"
  },
  "language_info": {
   "codemirror_mode": {
    "name": "ipython",
    "version": 3
   },
   "file_extension": ".py",
   "mimetype": "text/x-python",
   "name": "python",
   "nbconvert_exporter": "python",
   "pygments_lexer": "ipython3",
   "version": "3.12.1"
  }
 },
 "nbformat": 4,
 "nbformat_minor": 5
}
